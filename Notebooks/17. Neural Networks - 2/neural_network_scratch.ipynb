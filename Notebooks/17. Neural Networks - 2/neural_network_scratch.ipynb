{
 "cells": [
  {
   "cell_type": "code",
   "execution_count": 1,
   "id": "421ad0c3",
   "metadata": {},
   "outputs": [],
   "source": [
    "import numpy as np"
   ]
  },
  {
   "cell_type": "code",
   "execution_count": 2,
   "id": "9b05dd5b",
   "metadata": {},
   "outputs": [],
   "source": [
    "x = np.array([[0, 0], [0, 1], [1, 0], [1, 1]])\n",
    "y = np.array([0, 1, 1, 0]).reshape(4, 1)"
   ]
  },
  {
   "cell_type": "code",
   "execution_count": 3,
   "id": "ebeddd5f",
   "metadata": {},
   "outputs": [],
   "source": [
    "def sigmoid(x):\n",
    "    return 1 / (1 + np.exp(-x))"
   ]
  },
  {
   "cell_type": "code",
   "execution_count": 4,
   "id": "6686b28e",
   "metadata": {},
   "outputs": [],
   "source": [
    "def sigmoid_derivative(x):\n",
    "    return sigmoid(x) * (1 - sigmoid(x))"
   ]
  },
  {
   "cell_type": "code",
   "execution_count": 5,
   "id": "660dcd6a",
   "metadata": {},
   "outputs": [],
   "source": [
    "def give_random_weights(dimensions=1):\n",
    "    return 2 * np.random.random((dimensions)) - 1"
   ]
  },
  {
   "cell_type": "code",
   "execution_count": 21,
   "id": "1b466f30",
   "metadata": {},
   "outputs": [],
   "source": [
    "hidden_layer_weights = give_random_weights((2, 2))\n",
    "hidden_layer_bias = give_random_weights((1, 2))\n",
    "output_layer_weights = give_random_weights((2, 1))\n",
    "output_layer_bias = give_random_weights((1, 1))\n",
    "learning_rate = 0.1"
   ]
  },
  {
   "cell_type": "code",
   "execution_count": 22,
   "id": "2d7b89ec",
   "metadata": {},
   "outputs": [],
   "source": [
    "for i in range(10000):\n",
    "    hidden_layer_z = np.dot(x, hidden_layer_weights) + hidden_layer_bias\n",
    "    hidden_layer_output = sigmoid(hidden_layer_z)\n",
    "\n",
    "    output_layer_z = np.dot(hidden_layer_output, output_layer_weights) + output_layer_bias\n",
    "    output = sigmoid(output_layer_z)\n",
    "\n",
    "    output_layer_error = output - y\n",
    "    output_layer_delta = output_layer_error * sigmoid_derivative(output_layer_z)\n",
    "\n",
    "    hidden_layer_error = np.dot(output_layer_delta, output_layer_weights.T)\n",
    "    hidden_layer_delta = hidden_layer_error * sigmoid_derivative(hidden_layer_z)\n",
    "\n",
    "    output_layer_weights -= np.dot(hidden_layer_output.T, output_layer_delta) * learning_rate\n",
    "    hidden_layer_weights -= np.dot(x.T, hidden_layer_delta) * learning_rate\n",
    "\n",
    "    output_layer_bias -= np.sum(output_layer_delta, axis=0, keepdims=True) * learning_rate\n",
    "    hidden_layer_bias -= np.sum(hidden_layer_delta, axis=0, keepdims=True) * learning_rate\n",
    "\n",
    "\n",
    "hidden_layer_z = np.dot(x, hidden_layer_weights) + hidden_layer_bias\n",
    "hidden_layer_output = sigmoid(hidden_layer_z)\n",
    "\n",
    "output_layer_z = np.dot(hidden_layer_output, output_layer_weights) + output_layer_bias\n",
    "output = sigmoid(output_layer_z)"
   ]
  },
  {
   "cell_type": "code",
   "execution_count": 23,
   "id": "c7778c85",
   "metadata": {},
   "outputs": [
    {
     "data": {
      "text/plain": [
       "array([[0.05110166],\n",
       "       [0.9406382 ],\n",
       "       [0.93954822],\n",
       "       [0.07889851]])"
      ]
     },
     "execution_count": 23,
     "metadata": {},
     "output_type": "execute_result"
    }
   ],
   "source": [
    "output"
   ]
  }
 ],
 "metadata": {
  "kernelspec": {
   "display_name": "Python 3",
   "language": "python",
   "name": "python3"
  },
  "language_info": {
   "codemirror_mode": {
    "name": "ipython",
    "version": 3
   },
   "file_extension": ".py",
   "mimetype": "text/x-python",
   "name": "python",
   "nbconvert_exporter": "python",
   "pygments_lexer": "ipython3",
   "version": "3.12.0"
  }
 },
 "nbformat": 4,
 "nbformat_minor": 5
}
