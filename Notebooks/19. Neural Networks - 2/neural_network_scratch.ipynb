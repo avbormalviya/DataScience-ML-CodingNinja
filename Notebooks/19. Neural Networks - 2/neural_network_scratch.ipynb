{
 "cells": [
  {
   "cell_type": "code",
   "id": "421ad0c3",
   "metadata": {
    "ExecuteTime": {
     "end_time": "2025-05-07T15:58:45.516752Z",
     "start_time": "2025-05-07T15:58:45.512612Z"
    }
   },
   "source": [
    "import numpy as np"
   ],
   "outputs": [],
   "execution_count": 2
  },
  {
   "cell_type": "code",
   "id": "9b05dd5b",
   "metadata": {
    "ExecuteTime": {
     "end_time": "2025-05-07T15:58:46.249013Z",
     "start_time": "2025-05-07T15:58:46.243578Z"
    }
   },
   "source": [
    "x = np.array([[0, 0], [0, 1], [1, 0], [1, 1]])\n",
    "y = np.array([0, 1, 1, 0]).reshape(4, 1)"
   ],
   "outputs": [],
   "execution_count": 3
  },
  {
   "cell_type": "code",
   "id": "ebeddd5f",
   "metadata": {
    "ExecuteTime": {
     "end_time": "2025-05-07T15:58:46.324878Z",
     "start_time": "2025-05-07T15:58:46.320019Z"
    }
   },
   "source": [
    "def sigmoid(x):\n",
    "    return 1 / (1 + np.exp(-x))"
   ],
   "outputs": [],
   "execution_count": 4
  },
  {
   "cell_type": "code",
   "id": "6686b28e",
   "metadata": {
    "ExecuteTime": {
     "end_time": "2025-05-07T15:58:46.449940Z",
     "start_time": "2025-05-07T15:58:46.443191Z"
    }
   },
   "source": [
    "def sigmoid_derivative(x):\n",
    "    return sigmoid(x) * (1 - sigmoid(x))"
   ],
   "outputs": [],
   "execution_count": 5
  },
  {
   "cell_type": "code",
   "id": "660dcd6a",
   "metadata": {
    "ExecuteTime": {
     "end_time": "2025-05-07T15:58:46.506699Z",
     "start_time": "2025-05-07T15:58:46.502329Z"
    }
   },
   "source": [
    "def give_random_weights(dimensions=1):\n",
    "    return 2 * np.random.random((dimensions)) - 1"
   ],
   "outputs": [],
   "execution_count": 6
  },
  {
   "cell_type": "code",
   "id": "1b466f30",
   "metadata": {
    "ExecuteTime": {
     "end_time": "2025-05-07T15:58:46.533104Z",
     "start_time": "2025-05-07T15:58:46.526780Z"
    }
   },
   "source": [
    "hidden_layer_weights = give_random_weights((2, 2))\n",
    "hidden_layer_bias = give_random_weights((1, 2))\n",
    "output_layer_weights = give_random_weights((2, 1))\n",
    "output_layer_bias = give_random_weights((1, 1))\n",
    "learning_rate = 0.1"
   ],
   "outputs": [],
   "execution_count": 7
  },
  {
   "cell_type": "code",
   "id": "2d7b89ec",
   "metadata": {
    "ExecuteTime": {
     "end_time": "2025-05-07T15:58:47.315174Z",
     "start_time": "2025-05-07T15:58:46.549326Z"
    }
   },
   "source": [
    "for i in range(10000):\n",
    "    hidden_layer_z = np.dot(x, hidden_layer_weights) + hidden_layer_bias\n",
    "    hidden_layer_output = sigmoid(hidden_layer_z)\n",
    "\n",
    "    output_layer_z = np.dot(hidden_layer_output, output_layer_weights) + output_layer_bias\n",
    "    output = sigmoid(output_layer_z)\n",
    "\n",
    "    output_layer_error = output - y\n",
    "    output_layer_delta = output_layer_error * sigmoid_derivative(output_layer_z)\n",
    "\n",
    "    hidden_layer_error = np.dot(output_layer_delta, output_layer_weights.T)\n",
    "    hidden_layer_delta = hidden_layer_error * sigmoid_derivative(hidden_layer_z)\n",
    "\n",
    "    output_layer_weights -= np.dot(hidden_layer_output.T, output_layer_delta) * learning_rate\n",
    "    hidden_layer_weights -= np.dot(x.T, hidden_layer_delta) * learning_rate\n",
    "\n",
    "    output_layer_bias -= np.sum(output_layer_delta, axis=0, keepdims=True) * learning_rate\n",
    "    hidden_layer_bias -= np.sum(hidden_layer_delta, axis=0, keepdims=True) * learning_rate\n",
    "\n",
    "\n",
    "hidden_layer_z = np.dot(x, hidden_layer_weights) + hidden_layer_bias\n",
    "hidden_layer_output = sigmoid(hidden_layer_z)\n",
    "\n",
    "output_layer_z = np.dot(hidden_layer_output, output_layer_weights) + output_layer_bias\n",
    "output = sigmoid(output_layer_z)"
   ],
   "outputs": [],
   "execution_count": 8
  },
  {
   "cell_type": "code",
   "id": "c7778c85",
   "metadata": {
    "ExecuteTime": {
     "end_time": "2025-05-07T15:58:47.346747Z",
     "start_time": "2025-05-07T15:58:47.340288Z"
    }
   },
   "source": [
    "output"
   ],
   "outputs": [
    {
     "data": {
      "text/plain": [
       "array([[0.06521657],\n",
       "       [0.93140761],\n",
       "       [0.93593467],\n",
       "       [0.05653204]])"
      ]
     },
     "execution_count": 9,
     "metadata": {},
     "output_type": "execute_result"
    }
   ],
   "execution_count": 9
  }
 ],
 "metadata": {
  "kernelspec": {
   "display_name": "Python 3",
   "language": "python",
   "name": "python3"
  },
  "language_info": {
   "codemirror_mode": {
    "name": "ipython",
    "version": 3
   },
   "file_extension": ".py",
   "mimetype": "text/x-python",
   "name": "python",
   "nbconvert_exporter": "python",
   "pygments_lexer": "ipython3",
   "version": "3.12.0"
  }
 },
 "nbformat": 4,
 "nbformat_minor": 5
}
