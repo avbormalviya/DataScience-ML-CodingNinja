{
 "cells": [
  {
   "cell_type": "code",
   "id": "initial_id",
   "metadata": {
    "collapsed": true,
    "ExecuteTime": {
     "end_time": "2025-05-07T16:43:57.607939Z",
     "start_time": "2025-05-07T16:43:57.601709Z"
    }
   },
   "source": "import sqlite3",
   "outputs": [],
   "execution_count": 2
  },
  {
   "metadata": {
    "ExecuteTime": {
     "end_time": "2025-05-07T16:52:56.874182Z",
     "start_time": "2025-05-07T16:52:56.865334Z"
    }
   },
   "cell_type": "code",
   "source": [
    "db =sqlite3.connect('test.sqlite')\n",
    "db"
   ],
   "id": "96ce2be26b934fb9",
   "outputs": [
    {
     "data": {
      "text/plain": [
       "<sqlite3.Connection at 0x25777c82a70>"
      ]
     },
     "execution_count": 4,
     "metadata": {},
     "output_type": "execute_result"
    }
   ],
   "execution_count": 4
  },
  {
   "metadata": {
    "ExecuteTime": {
     "end_time": "2025-05-07T17:00:01.179953Z",
     "start_time": "2025-05-07T17:00:01.175322Z"
    }
   },
   "cell_type": "code",
   "source": "cur = db.cursor()",
   "id": "cba01941747d9e3",
   "outputs": [],
   "execution_count": 6
  },
  {
   "metadata": {
    "ExecuteTime": {
     "end_time": "2025-05-07T17:07:00.400175Z",
     "start_time": "2025-05-07T17:07:00.387857Z"
    }
   },
   "cell_type": "code",
   "source": "cur.execute('create table test (id int, name text)')",
   "id": "b392756d96937ecc",
   "outputs": [
    {
     "data": {
      "text/plain": [
       "<sqlite3.Cursor at 0x25778061940>"
      ]
     },
     "execution_count": 11,
     "metadata": {},
     "output_type": "execute_result"
    }
   ],
   "execution_count": 11
  },
  {
   "metadata": {
    "ExecuteTime": {
     "end_time": "2025-05-07T17:16:45.074069Z",
     "start_time": "2025-05-07T17:16:45.068784Z"
    }
   },
   "cell_type": "code",
   "source": "cur.execute(\"insert into test values (1, 'aalok'), (2, 'abhishek'), (3, 'akshay')\")",
   "id": "8856d2a2c8a89c65",
   "outputs": [
    {
     "data": {
      "text/plain": [
       "<sqlite3.Cursor at 0x25778061940>"
      ]
     },
     "execution_count": 17,
     "metadata": {},
     "output_type": "execute_result"
    }
   ],
   "execution_count": 17
  },
  {
   "metadata": {
    "ExecuteTime": {
     "end_time": "2025-05-07T17:16:45.702152Z",
     "start_time": "2025-05-07T17:16:45.687287Z"
    }
   },
   "cell_type": "code",
   "source": "db.commit()",
   "id": "89f3be37051eef9c",
   "outputs": [],
   "execution_count": 18
  },
  {
   "metadata": {
    "ExecuteTime": {
     "end_time": "2025-05-07T17:27:32.686870Z",
     "start_time": "2025-05-07T17:27:32.678879Z"
    }
   },
   "cell_type": "code",
   "source": [
    "data = [\n",
    "    (4, 'amit'),\n",
    "    (5, 'anand'),\n",
    "    (6, 'ankita')\n",
    "]\n",
    "\n",
    "cur.executemany('insert into test values (?, ?)', data)"
   ],
   "id": "38dd934aa43c3961",
   "outputs": [
    {
     "data": {
      "text/plain": [
       "<sqlite3.Cursor at 0x25778061940>"
      ]
     },
     "execution_count": 20,
     "metadata": {},
     "output_type": "execute_result"
    }
   ],
   "execution_count": 20
  },
  {
   "metadata": {
    "ExecuteTime": {
     "end_time": "2025-05-07T17:27:48.628227Z",
     "start_time": "2025-05-07T17:27:48.618807Z"
    }
   },
   "cell_type": "code",
   "source": "db.commit()",
   "id": "6540b1414c180168",
   "outputs": [],
   "execution_count": 21
  },
  {
   "metadata": {
    "ExecuteTime": {
     "end_time": "2025-05-07T17:17:27.166827Z",
     "start_time": "2025-05-07T17:17:27.159593Z"
    }
   },
   "cell_type": "code",
   "source": "cur.execute('select * from test')",
   "id": "92dce8da6ddae733",
   "outputs": [
    {
     "data": {
      "text/plain": [
       "<sqlite3.Cursor at 0x25778061940>"
      ]
     },
     "execution_count": 19,
     "metadata": {},
     "output_type": "execute_result"
    }
   ],
   "execution_count": 19
  },
  {
   "metadata": {},
   "cell_type": "code",
   "outputs": [],
   "execution_count": null,
   "source": "",
   "id": "e34a62a7009cfd9"
  }
 ],
 "metadata": {
  "kernelspec": {
   "display_name": "Python 3",
   "language": "python",
   "name": "python3"
  },
  "language_info": {
   "codemirror_mode": {
    "name": "ipython",
    "version": 2
   },
   "file_extension": ".py",
   "mimetype": "text/x-python",
   "name": "python",
   "nbconvert_exporter": "python",
   "pygments_lexer": "ipython2",
   "version": "2.7.6"
  }
 },
 "nbformat": 4,
 "nbformat_minor": 5
}
