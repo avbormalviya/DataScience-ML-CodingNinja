{
 "cells": [
  {
   "cell_type": "code",
   "execution_count": 5,
   "id": "5febbaab",
   "metadata": {},
   "outputs": [],
   "source": [
    "import numpy as np\n",
    "from sklearn.datasets import load_iris\n",
    "from sklearn.model_selection import train_test_split\n",
    "from decision_tree_implementation import DecisionTreeClassifier"
   ]
  },
  {
   "cell_type": "code",
   "execution_count": 6,
   "id": "5bb43532",
   "metadata": {},
   "outputs": [
    {
     "name": "stdout",
     "output_type": "stream",
     "text": [
      "Accuracy: 1.0\n",
      "PDF saved as iris_tree.pdf\n"
     ]
    }
   ],
   "source": [
    "iris = load_iris()\n",
    "X = iris.data\n",
    "y = iris.target\n",
    "\n",
    "X_train, X_test, y_train, y_test = train_test_split(X, y, test_size=0.2, random_state=42)\n",
    "\n",
    "model = DecisionTreeClassifier()\n",
    "model.fit(X_train, y_train, iris.feature_names, iris.target_names)\n",
    "\n",
    "print(\"Accuracy:\", model.score(X_test, y_test))\n",
    "\n",
    "model.export_tree_to_pdf(\"iris_tree\")\n"
   ]
  },
  {
   "cell_type": "code",
   "execution_count": 7,
   "id": "f857f469",
   "metadata": {},
   "outputs": [
    {
     "name": "stdout",
     "output_type": "stream",
     "text": [
      "PDF saved as my_decision_tree.pdf\n",
      "Prediction for [[1 0]\n",
      " [0 1]\n",
      " [0 0]\n",
      " [1 1]]: [1 1 0 1]\n"
     ]
    }
   ],
   "source": [
    "# Example dataset\n",
    "x = np.array([[1, 0], [1, 1], [0, 0], [0, 1]])\n",
    "y = np.array([1, 1, 0, 1])\n",
    "\n",
    "# Initialize the decision tree classifier\n",
    "model = DecisionTreeClassifier()\n",
    "\n",
    "# Fit the decision tree\n",
    "model.fit(x, y, ['X1', 'X2'])\n",
    "model.export_tree_to_pdf(\"my_decision_tree\")\n",
    "\n",
    "# Predict a new sample\n",
    "sample = np.array([[1, 0], [0, 1], [0, 0], [1, 1]])\n",
    "prediction = model.predict(sample)\n",
    "print(f\"Prediction for {sample}: {prediction}\")\n"
   ]
  }
 ],
 "metadata": {
  "kernelspec": {
   "display_name": "Python 3",
   "language": "python",
   "name": "python3"
  },
  "language_info": {
   "codemirror_mode": {
    "name": "ipython",
    "version": 3
   },
   "file_extension": ".py",
   "mimetype": "text/x-python",
   "name": "python",
   "nbconvert_exporter": "python",
   "pygments_lexer": "ipython3",
   "version": "3.12.0"
  }
 },
 "nbformat": 4,
 "nbformat_minor": 5
}
